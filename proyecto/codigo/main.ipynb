{
 "metadata": {
  "language_info": {
   "codemirror_mode": {
    "name": "ipython",
    "version": 3
   },
   "file_extension": ".py",
   "mimetype": "text/x-python",
   "name": "python",
   "nbconvert_exporter": "python",
   "pygments_lexer": "ipython3",
   "version": "3.9.5"
  },
  "orig_nbformat": 2,
  "kernelspec": {
   "name": "python395jvsc74a57bd07c82862da64b53b7255d956966d960809733628ec9b3e85c442b80ccd79c05cc",
   "display_name": "Python 3.9.5 64-bit (windows store)"
  },
  "metadata": {
   "interpreter": {
    "hash": "7c82862da64b53b7255d956966d960809733628ec9b3e85c442b80ccd79c05cc"
   }
  }
 },
 "nbformat": 4,
 "nbformat_minor": 2,
 "cells": [
  {
   "cell_type": "code",
   "execution_count": 1,
   "metadata": {},
   "outputs": [],
   "source": [
    "import GraphAM as gAM\n",
    "import lector as lt\n",
    "import vehicleRouting as vr"
   ]
  },
  {
   "source": [
    "Datasets/tc2c320s24cf0.txt      Datasets/tc2c320s24cf1.txt\n",
    "Datasets/tc2c320s24cf4.txt      Datasets/tc2c320s24ct0.txt\n",
    "Datasets/tc2c320s24ct1.txt      Datasets/tc2c320s24ct4.txt\n",
    "Datasets/tc2c320s38cf0.txt      Datasets/tc2c320s38cf1.txt\n",
    "Datasets/tc2c320s38cf4.txt      Datasets/tc2c320s38ct0.txt\n",
    "Datasets/tc2c320s38ct1.txt      Datasets/tc2c320s38ct4.txt\n",
    "Datasets/dummy.txt"
   ],
   "cell_type": "markdown",
   "metadata": {}
  },
  {
   "cell_type": "code",
   "execution_count": 2,
   "metadata": {},
   "outputs": [],
   "source": [
    "grafo = lt.lector.crearGrafoTxt(\"Datasets/tc2c320s38ct4.txt\")"
   ]
  },
  {
   "cell_type": "code",
   "execution_count": 6,
   "metadata": {},
   "outputs": [],
   "source": [
    "aux = vr.vehicleRouting(grafo, b = 60)\n",
    "bestPath = None\n",
    "bestPathTime = float(\"inf\")\n",
    "bestPathSeed = None\n",
    "bestVC = 0\n",
    "for i in range(1):\n",
    "    path = aux.vehicleRouting()\n",
    "    pathTime = path[1]\n",
    "    visitedClients = len(gAM.GraphAM.flatten(path[0]))\n",
    "    if visitedClients > bestVC:\n",
    "        bestPath = path\n",
    "        bestPathTime = sum(pathTime)\n",
    "        bestPathSeed = aux.seed\n",
    "        bestVC = visitedClients\n",
    "    elif visitedClients == bestVC and sum(pathTime) < bestPathTime:\n",
    "        bestPath = path\n",
    "        bestPathTime = sum(pathTime)\n",
    "        bestPathSeed = aux.seed\n",
    "\"\"\"\n",
    "grafo = lt.lector.crearGrafoTxt(\"Datasets/tc2c320s38ct4.txt\")\n",
    "aux = vr.vehicleRouting(grafo)\n",
    "bestPath = aux.vehicleRouting(seed = 7360069244080628934)\n",
    "\"\"\"\n",
    "times = bestPath[1]\n",
    "paths = bestPath[0]\n",
    "batterys = bestPath[2]"
   ]
  },
  {
   "cell_type": "code",
   "execution_count": null,
   "metadata": {},
   "outputs": [],
   "source": [
    "aux = vr.vehicleRouting(grafo, k = 3, b = 60)\n",
    "print(aux.getParameters())"
   ]
  },
  {
   "cell_type": "code",
   "execution_count": null,
   "metadata": {},
   "outputs": [],
   "source": [
    "colors = []\n",
    "for i in range(40):\n",
    "    colors.append(gAM.GraphAM.rand_web_color_hex())"
   ]
  },
  {
   "cell_type": "code",
   "execution_count": null,
   "metadata": {},
   "outputs": [],
   "source": [
    "print(f\"Seed: {aux.seed}\")\n",
    "#print(times)\n",
    "#print(batterys)\n",
    "grafo.showGraph(paths,colors, mode = 'Paths')  "
   ]
  },
  {
   "cell_type": "code",
   "execution_count": null,
   "metadata": {},
   "outputs": [],
   "source": [
    "colors"
   ]
  },
  {
   "cell_type": "code",
   "execution_count": null,
   "metadata": {},
   "outputs": [],
   "source": []
  }
 ]
}